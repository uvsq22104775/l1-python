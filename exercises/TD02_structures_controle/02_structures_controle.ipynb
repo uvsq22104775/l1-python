{
 "cells": [
  {
   "cell_type": "markdown",
   "metadata": {
    "slideshow": {
     "slide_type": "slide"
    }
   },
   "source": [
    "# TD 2: Les structures de contrôle\n",
    "\n",
    "---\n",
    "\n",
    "## 0. Récupération des nouveaux documents\n",
    "\n",
    "\n",
    "Les sujets de TD ainsi que les supports de cours sont publiés en ligne au fur et à mesure sur l'espace github original [https://github.com/uvsq-info/l1-python](https://github.com/uvsq-info/l1-python). Au moment où vous avez fait le fork de cet espace sur votre espace personnel, il est probable que tous les contenus n'étaient pas présents. Pour compléter votre espace, deux solutions sont possibles:\n",
    "\n",
    "\n",
    "1. (solution à privilégier) aller sur la page du projet original [https://github.com/uvsq-info/l1-python](https://github.com/uvsq-info/l1-python), et cliquer sur le bouton vert `Code` en haut à droite. Choisir `download ZIP`, puis extraire l'ensemble des nouveaux fichiers vers votre projet personnel local. Vous pouvez ensuite sauvegarder ces ajouts dans votre espace github personnel en suivant la procédure habituelle.\n",
    "2. (solution qui présente des risques de conflits entre différentes versions d'un même document) en ligne de commande dans le terminal, en suivant la procédure de la section *Intégrer les mises à jour du projet original* du fichier [README.md](https://github.com/uvsq-info/l1-python/blob/master/README.md#int%C3%A9grer-les-mises-%C3%A0-jour-du-projet-original)\n"
   ]
  },
  {
   "cell_type": "markdown",
   "metadata": {
    "slideshow": {
     "slide_type": "slide"
    }
   },
   "source": [
    "---\n",
    "\n",
    "## 1. Premiers exercices avec les structures conditionnelles\n",
    "\n",
    "**Exercice 1:**\n",
    "\n",
    "1. Soit *num1 = 15* et *num2 = 5*. Ecrire un programme qui affiche *Factors!* si l'un des nombres est un facteur de l'autre (c'est-à-dire qu'il divise l'autre nombre). Si aucun des nombres n'est un facteur de l'autre, le programme n'affiche rien.\n",
    "2. Changer le code que vous avez écrit de telle sorte qu'il affiche toujours *Factors!* si un nombre est un facteur de l'autre, mais qui affiche aussi *Not factors!* si aucun des nombres n'est un facteur de l'autre."
   ]
  },
  {
   "cell_type": "code",
   "execution_count": null,
   "metadata": {
    "slideshow": {
     "slide_type": "notes"
    }
   },
   "outputs": [],
   "source": [
    "num1, num2 = 15, 5\n",
    "if num1 % num2 == 0 : \n",
    "    print(\"Factors!\")\n",
    "elif num2 % num1 == 0 : \n",
    "    print(\"Factors!\")"
   ]
  },
  {
   "cell_type": "code",
   "execution_count": null,
   "metadata": {},
   "outputs": [],
   "source": [
    "def facteurs(num1,num2):\n",
    "    # facteurs permet de savoir si deux nombres sont multiples #\n",
    "    if num1 % num2 == 0 : \n",
    "        print(\"Factors!\")\n",
    "    elif num2 % num1 == 0 : \n",
    "        print(\"Factors!\")\n",
    "    else :\n",
    "        print(\"Not factors!\")"
   ]
  },
  {
   "cell_type": "markdown",
   "metadata": {
    "slideshow": {
     "slide_type": "slide"
    }
   },
   "source": [
    "**Exercice 2:**\n",
    "    \n",
    "Soit *state = \"Georgia\"*. Ecrire un programme qui permet d'afficher un message spécifique en fonction de la variable *state* :  \n",
    "* \"School isn't cancelled.\" si nous sommes à New Jersey,  \n",
    "* \"School is postponed.\" si nous sommes à North Carolina,\n",
    "* \"School is cancelled!\" si nous sommes à Georgia,  \n",
    "* \"School's status is unknown\" si nous ne sommes pas dans un des trois états précédemment mentionnés."
   ]
  },
  {
   "cell_type": "code",
   "execution_count": null,
   "metadata": {
    "slideshow": {
     "slide_type": "notes"
    }
   },
   "outputs": [],
   "source": [
    "state = input(\"entre le nom d'un état des Etats-Unis\")\n",
    "if state == \"New Jersey\" : \n",
    "    print(\"School isn't cancelled.\")\n",
    "elif state == \"North Carolina\" : \n",
    "    print(\"School is postponed.\")\n",
    "elif state == \"Georgia\" :\n",
    "    print(\"School is cancelled!\")\n",
    "else : \n",
    "    print(\"School's status is unknown\")"
   ]
  },
  {
   "cell_type": "markdown",
   "metadata": {
    "slideshow": {
     "slide_type": "slide"
    }
   },
   "source": [
    "**Exercice 3:**\n",
    "\n",
    "Ecrire un programme pour découvrir le signe du zodiaque chinois pour une année donnée. Le signe du zodiaque chinois est basé sur un cycle de 12 ans et chaque année de ce cycle est représentée par un animal :\n",
    "* 0: monkey\n",
    "* 1: rooster\n",
    "* 2: dog\n",
    "* 3: pig\n",
    "* 4: rat\n",
    "* 5: ox\n",
    "* 6: tiger\n",
    "* 7: rabbit\n",
    "* 8: dragon\n",
    "* 9: snake\n",
    "* 10: horse\n",
    "* 11: sheep\n",
    "\n",
    "La valeur de l'année % 12 détermine le signe du zodiaque. Par exemple, 1900 est l'année du *rat* puisque 1900 % 12 est 4."
   ]
  },
  {
   "cell_type": "code",
   "execution_count": 1,
   "metadata": {
    "slideshow": {
     "slide_type": "notes"
    }
   },
   "outputs": [
    {
     "name": "stdout",
     "output_type": "stream",
     "text": [
      "Il s'agit de l'année du dragon\n"
     ]
    }
   ],
   "source": [
    "annee = input(\"tape l'année pour laquelle tu cherches le signe du zodiaque chinois.\")\n",
    "if int(annee) % 12 == 0 :\n",
    "    print(\"Il s'agit de l'année du singe\")\n",
    "elif int(annee) % 12 == 1 : \n",
    "    print(\"Il s'agit de l'année du coq\")\n",
    "elif int(annee) % 12 == 2 : \n",
    "    print(\"Il s'agit de l'année du chien\")\n",
    "elif int(annee) % 12 == 3 : \n",
    "    print(\"Il s'agit de l'année du cochon\")\n",
    "elif int(annee) % 12 == 4 : \n",
    "    print(\"Il s'agit de l'année du rat\")\n",
    "elif int(annee) % 12 == 5 : \n",
    "    print(\"Il s'agit de l'année du boeuf\")\n",
    "elif int(annee) % 12 == 6 : \n",
    "    print(\"Il s'agit de l'année du tigre\")\n",
    "elif int(annee) % 12 == 7 : \n",
    "    print(\"Il s'agit de l'année du lapin\")\n",
    "elif int(annee) % 12 == 8 : \n",
    "    print(\"Il s'agit de l'année du dragon\")\n",
    "elif int(annee) % 12 == 9 : \n",
    "    print(\"Il s'agit de l'année du serpent\")\n",
    "elif int(annee) % 12 == 10 : \n",
    "    print(\"Il s'agit de l'année du cheval\")\n",
    "elif int(annee) % 12 == 11 : \n",
    "    print(\"Il s'agit de l'année du mouton\")"
   ]
  },
  {
   "cell_type": "markdown",
   "metadata": {
    "slideshow": {
     "slide_type": "slide"
    }
   },
   "source": [
    "**Exercice 4:**\n",
    "\n",
    "Soit *temperature = -3.7* et *celsius = True*. *celsius* est une variable booléenne qui indique si la température est en Celsius; si c'est *False*, alors la température donnée est en Fahrenheit. Ecrire un premier programme en utilisant *if-else* seulement qui permet d'afficher *Freezing* si les valeurs données représentent une température très basse, et *Not freezing* si ce n'est pas le cas. En Celsius, on considère qu'il fait très froid lorsque la température est inférieure ou égale à 0 degré. En Fahrenheit, on considère qu'il fait très froid lorsque la température est inférieure ou égale à 32 degrés. Proposer une seconde solution en utilisant *if-elif-else* à ce même problème."
   ]
  },
  {
   "cell_type": "code",
   "execution_count": null,
   "metadata": {
    "slideshow": {
     "slide_type": "notes"
    }
   },
   "outputs": [],
   "source": [
    "def meteo1 (temperature,unite):\n",
    "    if (temperature <= 0 and unite) or (temperature <= 32 and not unite):\n",
    "        print(\"Freezing\")\n",
    "    else : \n",
    "        print(\"Not freezing\")\n",
    "\n",
    "meteo1(-3.7,True)\n",
    "meteo1(23.9,False)\n",
    "meteo1(45,False)"
   ]
  },
  {
   "cell_type": "code",
   "execution_count": null,
   "metadata": {},
   "outputs": [],
   "source": [
    "def meteo(temperature,unite) : \n",
    "    if temperature <= 0 and unite :\n",
    "        print(\"Freezing\")\n",
    "    elif temperature <= 32 and not unite:\n",
    "        print(\"Freezing\")\n",
    "    else : \n",
    "        print(\"Not freezing\")\n",
    "\n",
    "       \n",
    "\n",
    "meteo(-3.7,True)\n",
    "meteo(23.9,False)\n",
    "meteo(45,False)"
   ]
  },
  {
   "cell_type": "markdown",
   "metadata": {
    "slideshow": {
     "slide_type": "slide"
    }
   },
   "source": [
    "**Exercice 5:**\n",
    "    \n",
    "Ecrire un programme qui permet de déterminer si une année est bissextile ou non en utilisant une seule instruction *if-else*. Une année *A* est bissextile si *A* est divisible par 4. Elle ne l’est cependant pas si *A* est un multiple\n",
    "de 100, à moins que *A* ne soit multiple de 400.    "
   ]
  },
  {
   "cell_type": "code",
   "execution_count": null,
   "metadata": {
    "slideshow": {
     "slide_type": "notes"
    }
   },
   "outputs": [],
   "source": [
    "annee = input(\"tape une année\")\n",
    "if (int(annee) % 4 == 0) and (int(annee) % 100 != 0 or (int(annee) % 100 == 0 and int(annee) % 400 == 0)) :\n",
    "    print(annee + \" est une année bissextile.\")\n",
    "else : \n",
    "    print(annee + \" n'est pas une année bissextile.\")"
   ]
  },
  {
   "cell_type": "markdown",
   "metadata": {},
   "source": [
    "---\n",
    "\n",
    "## 2. Premiers exercices avec les structures itératives\n",
    "\n",
    "**Exercice 6:**\n",
    "\n",
    "1. Ecrire un programme qui permet d'afficher tous les nombres entre 1 et 10 (bornes incluses).\n",
    "2. Ecrire un programme se limitant à la boucle *for* qui permet d'afficher tous les nombres pairs entre 1 et 20 (bornes incluses). Proposer une deuxième solution en incluant une structure conditionnelle."
   ]
  },
  {
   "cell_type": "code",
   "execution_count": null,
   "metadata": {},
   "outputs": [],
   "source": [
    "\n",
    "nombres_entre_1_et_10 = []\n",
    "for i in range(1,11):\n",
    "    nombres_entre_1_et_10 += [i]\n",
    "print(nombres_entre_1_et_10)"
   ]
  },
  {
   "cell_type": "code",
   "execution_count": null,
   "metadata": {},
   "outputs": [],
   "source": [
    "nombres_pairs_1_20 = []\n",
    "for i in range(2,21,2):\n",
    "    nombres_pairs_1_20 += [i]\n",
    "print(nombres_pairs_1_20)"
   ]
  },
  {
   "cell_type": "code",
   "execution_count": 3,
   "metadata": {},
   "outputs": [
    {
     "name": "stdout",
     "output_type": "stream",
     "text": [
      "2\n",
      "4\n",
      "6\n",
      "8\n",
      "10\n",
      "12\n",
      "14\n",
      "16\n",
      "18\n",
      "20\n"
     ]
    }
   ],
   "source": [
    "nombres_pairs_1_20 = []\n",
    "for i in range(1,21):\n",
    "    if i % 2 == 0 :\n",
    "        print(i)"
   ]
  },
  {
   "cell_type": "markdown",
   "metadata": {},
   "source": [
    "**Exercice 7:**\n",
    "    \n",
    "1. Ecrire un programme qui demande à l'utilisateur de saisir *n* nombres, *n* étant choisi par l'utilisateur, puis d'afficher la moyenne de ces nombres.\n",
    "\n",
    "2. Même question, mais l'utilisateur ne choisit pas à l'avance le nombre *n*, la procédure s'arrête quand il saisit le nombre -1.\n"
   ]
  },
  {
   "cell_type": "code",
   "execution_count": null,
   "metadata": {},
   "outputs": [],
   "source": [
    "n = input(\"combien de nombre souhaite-tu saisir ? \")\n",
    "total = 0\n",
    "for i in range(0,int(n)) : \n",
    "    total +=  int(input(\"tape un nombre\"))\n",
    "print(total / int(n))"
   ]
  },
  {
   "cell_type": "code",
   "execution_count": null,
   "metadata": {},
   "outputs": [],
   "source": [
    "total, nombre, nbr_nombre = 0, 0, 0\n",
    "while nombre != -1: \n",
    "    nombre = int(input(\"tape un nombre\"))\n",
    "    total += nombre\n",
    "    nbr_nombre += 1\n",
    "print(total / int(nbr_nombre))"
   ]
  },
  {
   "cell_type": "markdown",
   "metadata": {},
   "source": [
    "**Exercice 8:**\n",
    "\n",
    "Ecrire un programme qui permet de calculer le factoriel d'un nombre positif donné par l'utlisateur selon la formule suivante : \n",
    "n! = 1 x 2 x ... x n.  \n",
    "\n",
    "1. Une première version en utilisant la boucle *for*\n",
    "2. Une seconde version en utilisant la boucle *while*"
   ]
  },
  {
   "cell_type": "code",
   "execution_count": 6,
   "metadata": {},
   "outputs": [
    {
     "name": "stdout",
     "output_type": "stream",
     "text": [
      "40320\n"
     ]
    }
   ],
   "source": [
    "n = input(\"tape un nombre entier positif\")\n",
    "factoriel = 1\n",
    "for i in range(1,int(n)+1):\n",
    "    factoriel *= i \n",
    "print(factoriel)"
   ]
  },
  {
   "cell_type": "code",
   "execution_count": null,
   "metadata": {},
   "outputs": [],
   "source": [
    "n = input(\"tape un nombre entier positif\")\n",
    "multiplicateur, factoriel = 1, 1 \n",
    "while multiplicateur < int(n):\n",
    "    multiplicateur += 1\n",
    "    factoriel *= multiplicateur\n",
    "print(factoriel)"
   ]
  },
  {
   "cell_type": "markdown",
   "metadata": {
    "slideshow": {
     "slide_type": "slide"
    }
   },
   "source": [
    "---\n",
    "\n",
    "## 3. Pour aller plus loin\n",
    "\n",
    "**Excercice 9:**\n",
    "\n",
    "Ecrire un programme qui permet de connaître le jour de naissance de l'utilisateur en posant cinq questions.\n",
    "Chaque question demande si le jour est dans l'un des cinq ensembles suivants :\n",
    "\n",
    "* Set 1: \\[1 3 5 7 9 11 13 15 17 19 21 23 25 27 29 31\\]\n",
    "* Set 2: \\[2 3 6 7 10 11 14 15 18 19 22 23 26 27 30 31\\]\n",
    "* Set 3: \\[4 5 6 7 12 13 14 15 20 21 22 23 28 29 30 31\\]\n",
    "* Set 4: \\[8 9 10 11 12 13 14 15 24 25 26 27 28 29 30 31\\]\n",
    "* Set 5: \\[16 17 18 19 20 21 22 23 24 25 26 27 28 29 30 31\\]\n",
    "    \n",
    "\n",
    "Le jour de naissance est la somme des premiers nombres dans les ensembles où le jour apparaît. Par exemple,\n",
    "si le jour de naissance est 19, il apparaît dans Set 1, Set 2 et Set 5. Les premiers chiffres de ces trois ensembles sont 1, 2 et 16. Leur somme est 19."
   ]
  },
  {
   "cell_type": "code",
   "execution_count": null,
   "metadata": {
    "slideshow": {
     "slide_type": "notes"
    }
   },
   "outputs": [],
   "source": [
    "set = list(range(0,32))\n",
    "set1 = set[1::2]\n",
    "set2 = sorted([i for i in range(2,32,4)] + [i for i in range(3,32,4)])\n",
    "set3 = sorted([i for i in range(4,32,8)] + [i for i in range(5,32,8)] + [i for i in range(6,32,8)] + [i for i in range(7,32,8)])\n",
    "set4 = set[8:16] + set[24:]\n",
    "set5 = set[16:]\n",
    "tous_les_set = [set1, set2, set3, set4, set5]\n",
    "jour_de_naissance = 0\n",
    "donnees = 0\n",
    "consignes = input(\"Cinq listes de nombres vont s'afficher. Si vous voyez la date de votre anniversaire tapez oui, sinon tapez non. Tapez okay si vous avez compris les consignes.\")\n",
    "for i in tous_les_set :\n",
    "    donnee = input(i)\n",
    "    if donnee == \"oui\" :\n",
    "        jour_de_naissance += i[0]\n",
    "    else : \n",
    "        continue    \n",
    "print(\"vous êtes né un \",jour_de_naissance)"
   ]
  },
  {
   "cell_type": "markdown",
   "metadata": {
    "slideshow": {
     "slide_type": "slide"
    }
   },
   "source": [
    "**Excercice 10:**\n",
    "\n",
    "Ecrire un programme qui permet de génèrer de manière aléatoire un nombre à deux chiffres, invite l'utilisateur à saisir un nombre à deux chiffres et détermine si l'utilisateur gagne selon les règles suivantes :\n",
    "* Si l'entrée de l'utilisateur correspond à la loterie (le nombre généré aléatoirement) dans l'ordre exact, la récompense est de 10 000€.\n",
    "* Sinon, si les deux chiffres entrés par l'utilisateur correspondent aux deux chiffres du numéro de loterie, la récompense est de 3 000€.\n",
    "* Sinon, si un chiffre dans l'entrée de l'utilisateur correspond à un chiffre dans le numéro de loterie, la récompense est de 1 000€.\n",
    "\n",
    "**Astuce :** Utiliser la fonction **random.randint(0, 99)** pour génèrer de manière aléatoire un nombre à deux chiffres. Cette fonction doit être accompagné par **import random** comme première instruction dans le code."
   ]
  },
  {
   "cell_type": "code",
   "execution_count": null,
   "metadata": {
    "slideshow": {
     "slide_type": "notes"
    }
   },
   "outputs": [],
   "source": [
    "import random\n",
    "loterie = [int(i) for i in str(random.randint(10,100))]\n",
    "choix_utilisateur = [int(i) for i in input(\"Joue à la loterie pour gagner 10 000 € ! Tape un nombre à deux chiffres\")]\n",
    "if choix_utilisateur == loterie :\n",
    "    print(\"Vous avez gagné 10 000€ !\")\n",
    "elif choix_utilisateur == reversed(loterie):\n",
    "    print(\"Vous avez gagné 3 000€ !\")\n",
    "elif choix_utilisateur[0] in loterie or choix_utilisateur[1] in loterie :\n",
    "    print(\"Vous avez gagné 1 000€ !\")\n",
    "else : \n",
    "    print(\"Pas de chance, réessayez une prochaine fois !\")\n",
    "print(loterie, choix_utilisateur)"
   ]
  },
  {
   "cell_type": "markdown",
   "metadata": {},
   "source": [
    "**Exercice 11:**\n",
    "    \n",
    "Ecrire un programme qui permet de calculer la somme des chiffres d'un entier *n* donné. Le nombre *n* doit être compris entre 10 et 20 (bornes incluses)."
   ]
  },
  {
   "cell_type": "code",
   "execution_count": null,
   "metadata": {},
   "outputs": [],
   "source": [
    "\n",
    "n = [int(i) for i in input(\"Tape un nombre entre 10 et 20 inclus\")]\n",
    "somme = n[0] + n[1]\n",
    "print(somme)"
   ]
  },
  {
   "cell_type": "markdown",
   "metadata": {},
   "source": [
    "**Exercice 12:**\n",
    "\n",
    "1. Ecrire un programme qui permet de générer aléatoirement deux nombres entre 0 et 9, de calculer leurs différences (en valeur absolue), puis d'inviter l'utilisateur à répondre à la question suivante *que vaut abs(number1 - number2)?*. Le programme doit permettre à l'utilisateur de répondre plusieurs fois jusqu'à la saisie de la bonne réponse.\n",
    "2. Modifier le programme précédent de telle sorte qu'il génère cinq occurences à la suite invitant à répondre à la question précédente. A la fin, le programme affiche le nombre moyen de tentatives qu'il a fallu à l'utilisateur pour répondre à une question."
   ]
  },
  {
   "cell_type": "code",
   "execution_count": null,
   "metadata": {
    "tags": []
   },
   "outputs": [],
   "source": [
    "import random \n",
    "import math \n",
    "number1, number2 = random.randint(0,9), random.randint(0,9)\n",
    "affichage = [number1, number2, \"que vaut abs(number1 - number2)?\"]\n",
    "reponse_user = input(affichage)\n",
    "while int(reponse_user) != abs(number1 - number2):\n",
    "    reponse_user = input(affichage)\n",
    "print(\"Bravo, la réponse est bien\", reponse_user)"
   ]
  },
  {
   "cell_type": "code",
   "execution_count": null,
   "metadata": {
    "tags": []
   },
   "outputs": [],
   "source": [
    "\n",
    "import random \n",
    "import math \n",
    "number1, number2 = random.randint(0,9), random.randint(0,9)\n",
    "affichage = [number1, number2, \"que vaut abs(number1 - number2)?\"]\n",
    "reponses_user = 0\n",
    "tentative = 0\n",
    "while reponses_user != abs(number1 - number2) and tentative < 5:\n",
    "    reponses_user = int(input(affichage))\n",
    "    tentative += 1 \n",
    "print(\"Vous avez essayé\",tentative,\"fois avant de trouver le bon résultat, bravo!\")\n"
   ]
  },
  {
   "cell_type": "markdown",
   "metadata": {},
   "source": [
    "**Exercice 13:**\n",
    "\n",
    "Ecrire un programme qui permet de calculer le nombre de mots dans une phrase saisie par l'utilisateur."
   ]
  },
  {
   "cell_type": "code",
   "execution_count": null,
   "metadata": {
    "tags": []
   },
   "outputs": [],
   "source": [
    " \n",
    "phrase = input(\"Tape une phrase aussi longue que tu veux (n'oublies pas le ponctuation à la fin).\")\n",
    "list_phrase = [i for i in phrase]\n",
    "list_caracteres = [' ','.',\"'\",',',':','-',';','!','?']\n",
    "nombre_de_mots = 0 \n",
    "for i in range(0,len(list_phrase)) :\n",
    "    if (list_phrase[i-1] in list_caracteres) and (list_phrase[i] not in list_caracteres) : \n",
    "        nombre_de_mots += 1\n",
    "    else :\n",
    "        continue\n",
    "print(nombre_de_mots)"
   ]
  },
  {
   "cell_type": "markdown",
   "metadata": {
    "slideshow": {
     "slide_type": "slide"
    }
   },
   "source": [
    "---\n",
    "\n",
    "## 4. Pour s'entraîner\n",
    "\n",
    "**Exercice 14:**\n",
    "    \n",
    "Soit la variable my_input = \"zoophysiology\". Ecrire un script qui permet d'afficher l'un des messages suivants en fonction du nombre maximum de *o* consécutifs dans la variable *my_input*. Par exemple, le script doit afficher \"I like studying birds! I want to become an ornithologist!\" parce qu'il y a deux *o* consécutifs, même s'il y a aussi des *o* individual.\n",
    "Ignorer les *o* majuscules - recherchez que les *o* minuscules.\n",
    "\n",
    "* Si \"o\" apparaît trois fois ou plus de suite, afficher le message \"I like going to the zoo!\"  \n",
    "* Si \"o\" apparaît deux fois, afficher le message \"I like studying birds! I want to become an ornithologist!\"  \n",
    "* Si \"o\" apparaît une seule fois, afficher le message \"I like studying fish! I want to become an ichthyologist!\"  \n",
    "* Si \"o\" n'apparaît pas dans la variable *my_input*, afficher le message \"I miss going to the zoo!\"  \n",
    "\n",
    "**Astuce :** Utiliser l'opérateur **in** qui renvoie **True** si la première chaîne se trouve dans la deuxième chaîne. "
   ]
  },
  {
   "cell_type": "code",
   "execution_count": null,
   "metadata": {
    "slideshow": {
     "slide_type": "notes"
    }
   },
   "outputs": [],
   "source": [
    "my_input = input(\"tape le type de zoophysiology que tu souhaites étudier\")\n",
    "lettres_in_my_input = [i for i in my_input]\n",
    "nbr_o = lettres_in_my_input.count('o')\n",
    "where_o = [i for i, j in enumerate(lettres_in_my_input) if j == 'o']\n",
    "if len(where_o) == 1 : \n",
    "    print(\"I like studying fish! I want to become an ichthyologist!\")\n",
    "elif len(where_o) == 2 and where_o[1] == where_o[1] + 1 : \n",
    "    print(\"I like studying birds! I want to become an ornithologist!\")\n",
    "elif len(where_o) >= 3 and where_o[len(where_o)-1] == (where_o[0] + len(where_o) - 1) : \n",
    "    print(\"I like going to the zoo!\")\n",
    "elif len(where_o) == 0 : \n",
    "    print(\"I miss going to the zoo!\")\n",
    "else : \n",
    "    print(\"none\")"
   ]
  },
  {
   "cell_type": "markdown",
   "metadata": {
    "slideshow": {
     "slide_type": "slide"
    }
   },
   "source": [
    "**Exercice 15:**\n",
    "    \n",
    "Créer quatre variables nommées *team_1* et *team_2*, représentant deux noms d'équipes, et *team_1_score* et *team_2_score*, représentant les scores de ces deux équipes. \n",
    "Une équipe gagne si son score est supérieur à l'autre score de l'autre équipe.\n",
    " \n",
    "Ecrire un premier script qui permet d'afficher les messages suivants selon les valeurs entrées, ceci en utilisant seulement les quatres variables créées :\n",
    "* Si une équipe bat l'autre, affichez: \"\\[winner\\] beat \\[loser\\] by \\[margin\\]\"\n",
    "* Si aucune des équipes n'a gagné, affichez: \"\\[team_1\\] played \\[team_2\\] and it was a tie\"\n",
    "\n",
    "Ecrire un deuxième script qui permet d'afficher les mêmes messages mais en ajoutant trois variables de plus :\n",
    "* La variable *winner* pour définir l'équipe gagnante  \n",
    "* La variable *loser* pour définier l'équipe perdante  \n",
    "* La variable *margin* pour définir la différence entre les deux scores \n"
   ]
  },
  {
   "cell_type": "code",
   "execution_count": null,
   "metadata": {
    "slideshow": {
     "slide_type": "notes"
    }
   },
   "outputs": [],
   "source": [
    "team_1, team_2, team_1_score, team_2_score = input(\"entre le nom de ton équipe\"), input(\"entre le nom de l'équipe adverse\"), int(input(\"entre le score de ton équipe\")), int(input(\"entre le score de l'équipe adverse\"))\n",
    "if (team_1_score > team_2_score) or (team_2_score > team_1_score) : \n",
    "    print(\"winner beat loser by margin\")\n",
    "else : \n",
    "    print(\"team_1 played team_2 and it was a tie\""
   ]
  },
  {
   "cell_type": "code",
   "execution_count": null,
   "metadata": {
    "slideshow": {
     "slide_type": "notes"
    }
   },
   "outputs": [],
   "source": [
    "team_1, team_2, team_1_score, team_2_score = input(\"entre le nom de ton équipe\"), input(\"entre le nom de l'équipe adverse\"), int(input(\"entre le score de ton équipe\")), int(input(\"entre le score de l'équipe adverse\"))\n",
    "winner = 0\n",
    "loser = 0\n",
    "margin = abs(team_1_score - team_2_score)\n",
    "if team_1_score > team_2_score : \n",
    "    winner, loser = team_1, team_2\n",
    "    print(winner, \"beat\", loser, \"by\",margin)\n",
    "elif (team_2_score > team_1_score) :\n",
    "    winner, loser = team_2, team_1\n",
    "    print(winner, \"beat\", loser, \"by\",margin)\n",
    "else : \n",
    "    print(team_1, \"played\", team_2, \"and it was a tie\")"
   ]
  },
  {
   "cell_type": "markdown",
   "metadata": {
    "slideshow": {
     "slide_type": "slide"
    }
   },
   "source": [
    "**Exercice 16:**\n",
    "    \n",
    "L'Indice de Masse Corporelle (IMC) permet d'estimer le poids idéal en fonction de la taille. Son calcul correspond au poids en kilogrammes divisé par le carré de la taille en mètre (IMC = poids en kg/taille² en m). Le chiffre obtenu permet d'estimer la corpulence et éventuellement le surpoids ou l'obésité chez l'adulte, homme ou femme.\n",
    "L'interprétation de l'IMC pour les personnes de 16 ans et plus est la suivante :\n",
    "* Moins de 18.5: Underweight\n",
    "* Entre 18.5 et 24.9: Normal\n",
    "* Entre 25.0 et 29.9: Overweight\n",
    "* Plus que 30.0: Obese\n",
    "\n",
    "Ecrire un programme qui permet de saisir un poids en *pounds* et une taille en *inches*, de calculer et d'afficher l'IMC à deux valeurs après la virgule, et d'afficher l'interprétation la plus adéquate. Notez qu'un *pound* équivaut à 0,45359237 kilogrammes et qu'un *inch* équivaut à 0,0254 mètre.  \n",
    "\n",
    "**Astuce :** Pour afficher deux valeurs après la virgule, utilisez la fonction **format(nom_variable, \".2f\")**. Exemple : **print('La moyenne est :', format(moyenne, \".2f\"))**"
   ]
  },
  {
   "cell_type": "code",
   "execution_count": null,
   "metadata": {
    "slideshow": {
     "slide_type": "notes"
    }
   },
   "outputs": [],
   "source": [
    "poids, taille = float(input(\"tape ton poids en pounds\")), float(input(\"tape ta taille en inches\"))\n",
    "IMC = (poids * 0.45359237) / ((taille * 0.0254) ** 2)\n",
    "IMC_moyen = float(format(IMC, \".2f\"))\n",
    "print(\"L'IMC est en moyenne de\",IMC_moyen)\n",
    "if IMC_moyen < 18.5 : \n",
    "    print(\"Underweight\")\n",
    "elif 18.5 <= IMC_moyen <= 24.9: \n",
    "    print(\"Normal\")\n",
    "elif 25.0 <= IMC_moyen <= 29.9: \n",
    "    print(\"Overweight\")\n",
    "elif IMC_moyen >= 30.0 :\n",
    "    print(Obese"
   ]
  },
  {
   "cell_type": "markdown",
   "metadata": {},
   "source": [
    "**Exercice 17:**\n",
    "\n",
    "Ecrire un programme qui affiche un triangle d'étoiles de taille donnée, par exemple si on entre 6, le programme affiche:\n",
    "```\n",
    "*\n",
    "**\n",
    "***\n",
    "****\n",
    "*****\n",
    "******\n",
    "```"
   ]
  },
  {
   "cell_type": "code",
   "execution_count": null,
   "metadata": {
    "tags": []
   },
   "outputs": [],
   "source": [
    "\n",
    "n = int(input(\"tape un nombre pour obtenir un joli triangle\")) # que se passe t-il lorsque l'on tape 0 ? \n",
    "if n == 0 : \n",
    "    print(\"pas de joli triangle\") \n",
    "else :  \n",
    "    figure = \"*\\n\"\n",
    "    for i in range(2,n+1):\n",
    "        figure += i * \"*\" + \"\\n\"\n",
    "    print(figure)"
   ]
  },
  {
   "cell_type": "markdown",
   "metadata": {},
   "source": [
    "**Exercice 18:**\n",
    "\n",
    "Même exercice mais cette fois la sortie est\n",
    "```\n",
    "     *\n",
    "    **         \n",
    "   ***\n",
    "  ****\n",
    " *****\n",
    "******\n",
    "```"
   ]
  },
  {
   "cell_type": "code",
   "execution_count": null,
   "metadata": {
    "tags": []
   },
   "outputs": [],
   "source": [
    "n = int(input(\"tape un nombre pour obtenir un joli triangle\"))\n",
    "if n == 0 : \n",
    "    print(\"pas de joli triangle\") \n",
    "else :  \n",
    "    figure = (n-1) * \" \" + \"*\\n\"\n",
    "    for i in range(2,n+1):\n",
    "        figure += (n-i) * \" \" + i * \"*\" + \"\\n\"\n",
    "    print(figure)"
   ]
  },
  {
   "cell_type": "markdown",
   "metadata": {},
   "source": [
    "**Exercice 19:**\n",
    "\n",
    "Ecrire un programme qui calcule, étant donné un entier *n* rentré par l'utilisateur, la plus grande puissance de *n* inférieure à un million."
   ]
  },
  {
   "cell_type": "code",
   "execution_count": null,
   "metadata": {
    "tags": []
   },
   "outputs": [],
   "source": [
    "\n",
    "n = int(input(\"tape un entier\"))   \n",
    "i = 1\n",
    "if n > (10**6) :\n",
    "    print(\"Il n'y a pas de résultat pour cette requête.\")\n",
    "else : \n",
    "    while (n ** i) < (10**6) :\n",
    "        i += 1 \n",
    "    print(\"la plus grande puissance de n est\",i-1)"
   ]
  }
 ],
 "metadata": {
  "celltoolbar": "Diaporama",
  "interpreter": {
   "hash": "6e934e987a2e4ec729b2fdc2e5d74b7b3c2d330ef154df0d6de89d6854218bd2"
  },
  "kernelspec": {
   "display_name": "Python 3.9.7 64-bit",
   "name": "python3"
  },
  "language_info": {
   "codemirror_mode": {
    "name": "ipython",
    "version": 3
   },
   "file_extension": ".py",
   "mimetype": "text/x-python",
   "name": "python",
   "nbconvert_exporter": "python",
   "pygments_lexer": "ipython3",
   "version": "3.9.7"
  }
 },
 "nbformat": 4,
 "nbformat_minor": 4
}
